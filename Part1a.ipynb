{
  "nbformat": 4,
  "nbformat_minor": 0,
  "metadata": {
    "colab": {
      "name": "Part1a.ipynb",
      "provenance": [],
      "collapsed_sections": []
    },
    "kernelspec": {
      "name": "python3",
      "display_name": "Python 3"
    }
  },
  "cells": [
    {
      "cell_type": "code",
      "metadata": {
        "id": "-h6Lm8esZV8X",
        "colab_type": "code",
        "outputId": "aeb20f7f-c147-4dc1-971c-9fa26bd63ef6",
        "colab": {
          "base_uri": "https://localhost:8080/",
          "height": 119
        }
      },
      "source": [
        "!apt install wget\n",
        "\n",
        "from google.colab import drive\n",
        "drive.mount('/content/drive/')"
      ],
      "execution_count": 0,
      "outputs": [
        {
          "output_type": "stream",
          "text": [
            "Reading package lists... Done\n",
            "Building dependency tree       \n",
            "Reading state information... Done\n",
            "wget is already the newest version (1.19.4-1ubuntu2.2).\n",
            "0 upgraded, 0 newly installed, 0 to remove and 8 not upgraded.\n",
            "Mounted at /content/drive/\n"
          ],
          "name": "stdout"
        }
      ]
    },
    {
      "cell_type": "code",
      "metadata": {
        "id": "5B5rX6vEZC9N",
        "colab_type": "code",
        "colab": {}
      },
      "source": [
        "import cv2\n",
        "import skimage.io\n",
        "import skimage.transform\n",
        "import pandas as pd\n",
        "import numpy as np\n",
        "import torch\n",
        "import torchvision\n",
        "import os\n",
        "import sys\n",
        "import time\n",
        "import glob\n",
        "import h5py\n",
        "from tqdm import tqdm\n",
        "import matplotlib.pyplot as plt\n",
        "%matplotlib inline"
      ],
      "execution_count": 0,
      "outputs": []
    },
    {
      "cell_type": "code",
      "metadata": {
        "id": "ip1udbAIZVzb",
        "colab_type": "code",
        "colab": {}
      },
      "source": [
        "data_dir = 'drive/My Drive/Datathon/Data/fb/data'\n",
        "save_file = 'drive/My Drive/Datathon/Data/fb/part1d.csv'\n",
        "csv_dir = 'ml_preds_csv'\n",
        "png_dir = 'ml_preds_png'\n",
        "\n",
        "files = sorted(glob.glob(os.path.join(data_dir, csv_dir,'*.csv')))\n",
        "file_suffix = ['000','001','010','011','100','101','110','111','002','003','012','013','102','103','112','113','020','021','030','031','120','121','130','131','022','023','032','033','122','123','132','133','200','201','210','211','300','301','310','311','202','203','212','213','302','303','312','313','220','221','230','231','320','321','330','331','222','223','232','233','322','323','332','333']\n",
        "files_sorted = []\n",
        "# for suf in file_suffix:\n",
        "#   for i, f in enumerate(files):\n",
        "#     if(f.endswith(suf+'.csv')):\n",
        "#       idx = i\n",
        "#   files_sorted.append(files[idx])\n",
        "\n",
        "# data_csv = []\n",
        "# for f in files_sorted:\n",
        "#   data_csv.append(pd.read_csv(f))\n"
      ],
      "execution_count": 0,
      "outputs": []
    },
    {
      "cell_type": "code",
      "metadata": {
        "id": "fx_f6r9zE6ao",
        "colab_type": "code",
        "colab": {}
      },
      "source": [
        "# # save a h5py file\n",
        "# for i,f in enumerate(file_suffix):\n",
        "#   with h5py.File(os.path.join(data_dir,'ml_preds_h5files',f+'.h5'), 'w') as hf:\n",
        "#     hf.create_dataset('data',  data=data_csv[i].to_numpy())"
      ],
      "execution_count": 0,
      "outputs": []
    },
    {
      "cell_type": "code",
      "metadata": {
        "id": "4wcGIt5pFiil",
        "colab_type": "code",
        "colab": {}
      },
      "source": [
        "# read csv\n",
        "data_csv = []\n",
        "for f in file_suffix:\n",
        "  with h5py.File(os.path.join(data_dir,'ml_preds_h5files',f+'.h5'), 'r') as hf:\n",
        "    data_csv.append(hf['data'][:])\n"
      ],
      "execution_count": 0,
      "outputs": []
    },
    {
      "cell_type": "code",
      "metadata": {
        "id": "d7f3ouaV-zAt",
        "colab_type": "code",
        "colab": {}
      },
      "source": [
        "coordinate_delta = 5e-6\n",
        "image_top_lat = []\n",
        "image_left_lon = []\n",
        "image_bottom_lat = []\n",
        "image_right_lon = []\n",
        "for i, data in enumerate(data_csv):\n",
        "  # get coordinate of leftmost pixel of each image\n",
        "  px_idx = 0\n",
        "  px_i, px_j = data[px_idx, 0], data[px_idx, 1]\n",
        "  lat_ul, lon_ul = data[px_idx, 3], data[px_idx, 4]\n",
        "\n",
        "  image_top_lat.append(lat_ul + px_i * coordinate_delta)\n",
        "  image_left_lon.append(lon_ul - px_j * coordinate_delta)\n",
        "\n",
        "  # get coordinate of rightmost pixel of each image\n",
        "  px_idx = -1\n",
        "  px_i, px_j = data[px_idx, 0], data[px_idx, 1]\n",
        "  lat_br, lon_br = data[px_idx, 3], data[px_idx, 4]\n",
        "\n",
        "  image_bottom_lat.append(lat_br - (8191 - px_i) * coordinate_delta)\n",
        "  image_right_lon.append(lon_br + (8191 - px_j) * coordinate_delta)\n"
      ],
      "execution_count": 0,
      "outputs": []
    },
    {
      "cell_type": "code",
      "metadata": {
        "id": "MRx7roHoBNWb",
        "colab_type": "code",
        "colab": {}
      },
      "source": [
        "# convert everything to numpy array\n",
        "image_top_lat = np.asarray(image_top_lat)\n",
        "image_left_lon = np.asarray(image_left_lon)\n",
        "image_bottom_lat = np.asarray(image_bottom_lat)\n",
        "image_right_lon = np.asarray(image_bottom_lat)\n",
        "\n",
        "# load test facebook coordinates\n",
        "fb_test_file = pd.read_csv(os.path.join('drive/My Drive/Datathon/Data/fb', 'tz_popdens_sample.csv'))\n",
        "\n",
        "test_coordinates = np.zeros((fb_test_file.shape[0], 2))\n",
        "test_coordinates[:,0] = fb_test_file['latitude'].to_numpy()\n",
        "test_coordinates[:,1] = fb_test_file['longitude'].to_numpy()\n",
        "# fb_test_lat = fb_test_file['latitude']\n",
        "# fb_test_lon = fb_test_file['longitude']\n",
        "fb_test_popden = fb_test_file['population_count']\n"
      ],
      "execution_count": 0,
      "outputs": []
    },
    {
      "cell_type": "code",
      "metadata": {
        "id": "9HZJW69-ZpTX",
        "colab_type": "code",
        "colab": {}
      },
      "source": [
        "lat_bins = np.zeros(8)\n",
        "lon_bins = np.zeros(8)\n",
        "for i in range(8):\n",
        "  lat_bins[i] = np.mean(image_top_lat[i*8:(i+1)*8])\n",
        "  lon_bins[i] = np.mean([image_left_lon[j] for j in np.arange(i, 64, 8)])\n",
        "\n",
        "list_image_lat = np.digitize(test_coordinates[:,0], lat_bins, right=True) \n",
        "list_image_lon = np.digitize(test_coordinates[:,1], lon_bins, right=False)\n",
        "list_image_lat[list_image_lat == 0] = 1 \n",
        "list_image_lon[list_image_lon == 0] = 1\n",
        "list_image_lat -= 1 # bin values are actually from 1-8\n",
        "list_image_lon -= 1 \n",
        "list_image_idx = list_image_lat * 8 + list_image_lon"
      ],
      "execution_count": 0,
      "outputs": []
    },
    {
      "cell_type": "code",
      "metadata": {
        "id": "Ph_yMwY1HMlR",
        "colab_type": "code",
        "colab": {}
      },
      "source": [
        "def find_min_distance(pt, list_pts):\n",
        "  distance = np.sqrt((pt[0] - list_pts[:,0])**2 + (pt[1] - list_pts[:,1])**2)\n",
        "  idxs = distance.argmin()\n",
        "  return list_pts[idxs], distance[idxs]\n"
      ],
      "execution_count": 0,
      "outputs": []
    },
    {
      "cell_type": "code",
      "metadata": {
        "id": "IbkqVWxsZV6R",
        "colab_type": "code",
        "colab": {}
      },
      "source": [
        "save_file = 'drive/My Drive/Datathon/Data/fb/savefiles.csv'\n",
        "\n",
        "def lin2ind(lin_idx):\n",
        "  r, c = (lin_idx // 8, lin_idx % 8)\n",
        "  return r, c\n",
        "\n",
        "def ind2lin(pt):\n",
        "  idx = pt[0] * 8 + pt[1]\n",
        "  return idx\n",
        "\n",
        "list_min_dist = []\n",
        "list_min_lat = []\n",
        "list_min_lon = []\n",
        "  \n",
        "for i, data in enumerate(zip(test_coordinates, list_image_idx)):\n",
        "  tc, i_image = data\n",
        "  image = data_csv[i_image]\n",
        "  # find location of pixel in image\n",
        "  # bin_latitudes = np.arange(image_bottom_lat[i_image], image_top_lat[i_image]+coordinate_delta, coordinate_delta)\n",
        "  # bin_longitudes = np.arange(image_left_lon[i_image], image_right_lon[i_image]+coordinate_delta, coordinate_delta)\n",
        "  \n",
        "  # r = np.digitize(tc[0], bin_latitudes)\n",
        "  # c = np.digitize(tc[1], bin_longitudes)\n",
        "\n",
        "  # find all roads\n",
        "  road_lat = image[image[:,2] >= 75, 3]\n",
        "  road_lon = image[image[:,2] >= 75, 4]\n",
        "  \n",
        "  # closest pair of points\n",
        "  # pdb.set_trace()\n",
        "  image_midpoint = ((image_top_lat[i_image] + image_bottom_lat[i_image]) / 2, (image_left_lon[i_image] + image_right_lon[i_image]) / 2)\n",
        "  true_min_pt, true_min_dist = find_min_distance(tc, np.stack((road_lat, road_lon), axis=1))\n",
        "  \n",
        "  # choose neighbourhood images in the grid\n",
        "  r,c = lin2ind(i_image)\n",
        "  if(tc[0] < image_midpoint[0]):\n",
        "    r_prime = min(r+1, 7)\n",
        "    if(tc[1] < image_midpoint[1]):\n",
        "      c_prime = max(c-1, 0)\n",
        "    else:\n",
        "      c_prime = min(c+1, 7)\n",
        "  else:\n",
        "    r_prime = max(r-1, 0)\n",
        "    if(tc[1] < image_midpoint[1]):\n",
        "      c_prime = max(c-1, 0)\n",
        "    else:\n",
        "      c_prime = min(c+1, 7)\n",
        "    \n",
        "  # find in the image if there exists a road closer in other images\n",
        "  img_idxs = [(r_prime, c), (r, c_prime), (r_prime, c_prime)]\n",
        "  for j in range(3):\n",
        "    img_linidx = ind2lin(img_idxs[j])\n",
        "    image_prime = data_csv[img_linidx]\n",
        "\n",
        "    # find all roads\n",
        "    road_lat = image_prime[image_prime[:,2] > 75, 3]\n",
        "    road_lon = image_prime[image_prime[:,2] > 75, 4]\n",
        "    min_pt, min_dist = find_min_distance(tc, np.stack((road_lat, road_lon), axis=1))\n",
        "    if(min_dist < true_min_dist):\n",
        "      true_min_dist = min_dist\n",
        "      true_min_pt = min_pt\n",
        "\n",
        "  # add to list\n",
        "  with open(save_file, 'a') as f:\n",
        "    f.write(''.join([str(true_min_dist),',', str(true_min_pt[0]),',', str(true_min_pt[1]),'\\n']))\n"
      ],
      "execution_count": 0,
      "outputs": []
    },
    {
      "cell_type": "markdown",
      "metadata": {
        "id": "NmMj9EttjnB7",
        "colab_type": "text"
      },
      "source": [
        ""
      ]
    },
    {
      "cell_type": "code",
      "metadata": {
        "id": "SjNmGeeDZWDZ",
        "colab_type": "code",
        "outputId": "4897a8e1-13a8-45e1-8761-867a07ef7742",
        "colab": {
          "base_uri": "https://localhost:8080/",
          "height": 34
        }
      },
      "source": [
        "# for block proceesing - distance between points\n",
        "def find_min_distance(pt, list_pts):\n",
        "  num_points = pt.shape[0]\n",
        "  tiled_pts = np.tile(list_pts[:, 0].T, num_points)\n",
        "  distance = np.sqrt((pt[0] - tiled_pts)**2 + (pt[1] - tiled_pts)**2)\n",
        "  idxs = distance.argmin(axis=1)\n",
        "  return list_pts[idxs], distance[idxs]\n"
      ],
      "execution_count": 0,
      "outputs": [
        {
          "output_type": "execute_result",
          "data": {
            "text/plain": [
              "-6.0220046303400006"
            ]
          },
          "metadata": {
            "tags": []
          },
          "execution_count": 203
        }
      ]
    },
    {
      "cell_type": "code",
      "metadata": {
        "id": "GSnFMv1iZWFf",
        "colab_type": "code",
        "outputId": "14895457-d51f-46e0-cccf-12a8a33c3cb4",
        "colab": {
          "base_uri": "https://localhost:8080/",
          "height": 1000
        }
      },
      "source": [
        "# block process inputs to speed up processing time\n",
        "def lin2ind(lin_idx):\n",
        "  r, c = (lin_idx // 8, lin_idx % 8)\n",
        "  return r, c\n",
        "\n",
        "def ind2lin(pt):\n",
        "  idx = pt[0] * 8 + pt[1]\n",
        "  return idx\n",
        "\n",
        "list_min_dist = []\n",
        "list_min_lat = []\n",
        "list_min_lon = []\n",
        "\n",
        "pack_data = []\n",
        "block_size = 1000\n",
        "num_blocks = len(test_coordinates) // block_size\n",
        "for i in range(num_blocks):\n",
        "  pack_data.append(np.concatenate((test_coordinates[i*block_size:(i+1)*block_size], \n",
        "                                             list_image_idx[i*block_size:(i+1)*block_size][:, np.newaxis]), axis=1))\n",
        "pack_data.append(np.concatenate((test_coordinates[-len(test_coordinates) % block_size:], \n",
        "                                 list_image_idx[-len(test_coordinates) % block_size:][:, np.newaxis]), axis=1))\n",
        "  \n",
        "for i, data in enumerate(tqdm(pack_data)):\n",
        "  tc, i_image = data[:, :2], data[:, 2].astype(np.int32)\n",
        "  image = [data_csv[idx][:, 2] for idx in i_image]\n",
        "  all_pixels = [data_csv[idx][:, 2] for idx in i_image]\n",
        "  valid_pixels = [pxs >= 75 for pxs in all_pixels]\n",
        "  # find location of pixel in image\n",
        "  # bin_latitudes = np.arange(image_bottom_lat[i_image], image_top_lat[i_image]+coordinate_delta, coordinate_delta)\n",
        "  # bin_longitudes = np.arange(image_left_lon[i_image], image_right_lon[i_image]+coordinate_delta, coordinate_delta)\n",
        "  \n",
        "  # r = np.digitize(tc[0], bin_latitudes)\n",
        "  # c = np.digitize(tc[1], bin_longitudes)\n",
        "\n",
        "  # find all roads\n",
        "  road_lat = image[image[:,2] >= 75, 3]\n",
        "  road_lon = image[image[:,2] >= 75, 4]\n",
        "  \n",
        "  # closest pair of points\n",
        "  # pdb.set_trace()\n",
        "  image_midpoint = ((image_top_lat[i_image] + image_bottom_lat[i_image]) / 2, (image_left_lon[i_image] + image_right_lon[i_image]) / 2)\n",
        "  true_min_pt, true_min_dist = find_min_distance(tc, np.stack((road_lat, road_lon), axis=1))\n",
        "  \n",
        "  # choose neighbourhood images in the grid\n",
        "  r,c = lin2ind(i_image)\n",
        "  if(tc[0] < image_midpoint[0]):\n",
        "    r_prime = min(r+1, 7)\n",
        "    if(tc[1] < image_midpoint[1]):\n",
        "      c_prime = max(c-1, 0)\n",
        "    else:\n",
        "      c_prime = min(c+1, 7)\n",
        "  else:\n",
        "    r_prime = max(r-1, 0)\n",
        "    if(tc[1] < image_midpoint[1]):\n",
        "      c_prime = max(c-1, 0)\n",
        "    else:\n",
        "      c_prime = min(c+1, 7)\n",
        "    \n",
        "  # find in the image if there exists a road closer in other images\n",
        "  img_idxs = [np.asarray(zip(r_prime, c)), np.asarray(zip(r, c_prime)), np.asarray(zip(r_prime, c_prime))]\n",
        "  for j in range(3):\n",
        "    img_linidx = ind2lin(img_idxs[j])\n",
        "    image_prime = data_csv[img_linidx]\n",
        "\n",
        "    # find all roads\n",
        "    road_lat = image_prime[image_prime[:,2] >= 75, 3]\n",
        "    road_lon = image_prime[image_prime[:,2] >= 75, 4]\n",
        "    min_pt, min_dist = find_min_distance(tc, np.stack((road_lat, road_lon), axis=1))\n",
        "    save_idxs = min_dist < true_min_dist\n",
        "    true_min_dist[save_idxs] = min_dist[save_idxs]\n",
        "    true_min_pt[save_idxs] = min_pt[save_idxs]\n",
        "    # if(min_dist < true_min_dist):\n",
        "    #   true_min_dist = min_dist\n",
        "    #   true_min_pt = min_pt\n",
        "\n",
        "  # add to list\n",
        "  with open(save_file, 'a') as f:\n",
        "    f.write(''.join([str(true_min_dist),',', str(true_min_pt[0]),',', str(true_min_pt[1]),'\\n']))\n"
      ],
      "execution_count": 0,
      "outputs": [
        {
          "output_type": "execute_result",
          "data": {
            "text/plain": [
              "[-5.965753671065527,\n",
              " -5.965753671065527,\n",
              " -5.965753671065527,\n",
              " -5.965753671065527,\n",
              " -5.965753671065527,\n",
              " -5.965753671065527,\n",
              " -5.965753671065527,\n",
              " -5.965753671065527,\n",
              " -6.0094592380595575,\n",
              " -6.0094592380595575,\n",
              " -6.0094592380595575,\n",
              " -6.0094592380595575,\n",
              " -6.0094592380595575,\n",
              " -6.0094592380595575,\n",
              " -6.0094592380595575,\n",
              " -6.0094592380595575,\n",
              " -6.053161295714072,\n",
              " -6.053161295714072,\n",
              " -6.053161295714072,\n",
              " -6.053161295714072,\n",
              " -6.053161295714072,\n",
              " -6.053161295714072,\n",
              " -6.053161295714072,\n",
              " -6.053161295714072,\n",
              " -6.096859818887947,\n",
              " -6.096859818887947,\n",
              " -6.096859818887947,\n",
              " -6.096859818887947,\n",
              " -6.096859818887947,\n",
              " -6.096859818887947,\n",
              " -6.096859818887947,\n",
              " -6.096859818887947,\n",
              " -6.140554782450299,\n",
              " -6.140554782450299,\n",
              " -6.140554782450299,\n",
              " -6.140554782450299,\n",
              " -6.140554782450299,\n",
              " -6.140554782450299,\n",
              " -6.140554782450299,\n",
              " -6.140554782450299,\n",
              " -6.184246161280591,\n",
              " -6.184246161280591,\n",
              " -6.184246161280591,\n",
              " -6.184246161280591,\n",
              " -6.184246161280591,\n",
              " -6.184246161280591,\n",
              " -6.184246161280591,\n",
              " -6.184246161280591,\n",
              " -6.22793393026867,\n",
              " -6.22793393026867,\n",
              " -6.22793393026867,\n",
              " -6.22793393026867,\n",
              " -6.22793393026867,\n",
              " -6.22793393026867,\n",
              " -6.22793393026867,\n",
              " -6.22793393026867,\n",
              " -6.271618064314865,\n",
              " -6.271618064314865,\n",
              " -6.271618064314865,\n",
              " -6.271618064314865,\n",
              " -6.271618064314865,\n",
              " -6.271618064314865,\n",
              " -6.271618064314865,\n",
              " -6.271618064314865]"
            ]
          },
          "metadata": {
            "tags": []
          },
          "execution_count": 32
        }
      ]
    }
  ]
}